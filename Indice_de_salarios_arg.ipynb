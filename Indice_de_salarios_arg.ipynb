{
 "cells": [
  {
   "cell_type": "code",
   "execution_count": 1,
   "id": "a55370eb",
   "metadata": {},
   "outputs": [],
   "source": [
    "import requests\n",
    "import pandas as pd"
   ]
  },
  {
   "cell_type": "code",
   "execution_count": 2,
   "id": "bb1f2dcc",
   "metadata": {},
   "outputs": [],
   "source": [
    "API_URL = 'https://apis.datos.gob.ar/series/api/series/?ids=149.1_SOR_PRIADO_OCTU_0_25'\n",
    "response = requests.get(API_URL)\n",
    "data = response.json()"
   ]
  },
  {
   "cell_type": "code",
   "execution_count": 3,
   "id": "a9220302",
   "metadata": {},
   "outputs": [
    {
     "data": {
      "text/plain": [
       "Date     datetime64[ns]\n",
       "Value           float64\n",
       "dtype: object"
      ]
     },
     "execution_count": 3,
     "metadata": {},
     "output_type": "execute_result"
    }
   ],
   "source": [
    "# We make the transformations. Converting the json to dataframe and then converting the date column to datetime.\n",
    "df = pd.DataFrame(data[\"data\"], columns=[\"Date\", \"Value\"])\n",
    "df[\"Date\"] = pd.to_datetime(df[\"Date\"])\n",
    "df.dtypes"
   ]
  },
  {
   "cell_type": "code",
   "execution_count": 4,
   "id": "f99e7fea",
   "metadata": {},
   "outputs": [],
   "source": [
    "# Importing neccesary libraries and initiating connection\n",
    "import psycopg2\n",
    "import pandas as pd\n",
    "from sqlalchemy import create_engine\n",
    "\n",
    "conn_string = \"host=data-engineer-cluster.cyhh5bfevlmn.us-east-1.redshift.amazonaws.com port=5439 dbname=data-engineer-database user=leo_carulli_coderhouse password=PT3o7PK1Rh\"\n",
    "conn = psycopg2.connect(conn_string)"
   ]
  },
  {
   "cell_type": "code",
   "execution_count": 5,
   "id": "321c69e1",
   "metadata": {},
   "outputs": [],
   "source": [
    "# Create the SQLAlchemy engine\n",
    "engine = create_engine('postgresql+psycopg2://', creator=lambda: conn)"
   ]
  },
  {
   "cell_type": "code",
   "execution_count": 6,
   "id": "60d2c7a1",
   "metadata": {},
   "outputs": [],
   "source": [
    "# Create the table if it doesn't exist\n",
    "create_table_query = \"\"\"\n",
    "    CREATE TABLE IF NOT EXISTS TablaDeSalarios (\n",
    "        fecha DATE DISTKEY,\n",
    "        indice_de_salarios NUMERIC\n",
    "    )\n",
    "    SORTKEY (fecha);\n",
    "\"\"\"\n",
    "with conn.cursor() as cursor:\n",
    "    cursor.execute(create_table_query)\n",
    "    conn.commit()"
   ]
  },
  {
   "cell_type": "code",
   "execution_count": 7,
   "id": "50207a75",
   "metadata": {},
   "outputs": [],
   "source": [
    "# Convert the DataFrame to a temporary table\n",
    "df.to_sql('temp_table', engine, index=False, if_exists='replace')"
   ]
  },
  {
   "cell_type": "code",
   "execution_count": 8,
   "id": "853bc758",
   "metadata": {},
   "outputs": [
    {
     "name": "stdout",
     "output_type": "stream",
     "text": [
      "All rows deleted successfully.\n"
     ]
    }
   ],
   "source": [
    "# Execute the TRUNCATE statement. This will delete all prior information present on the database\n",
    "with conn.cursor() as cursor:\n",
    "    query = \"TRUNCATE TABLE TablaDeSalarios;\"\n",
    "    cursor.execute(query)\n",
    "    conn.commit()\n",
    "    print(\"All rows deleted successfully.\")\n"
   ]
  },
  {
   "cell_type": "code",
   "execution_count": 9,
   "id": "6332dd73",
   "metadata": {},
   "outputs": [],
   "source": [
    "# Execute an SQL query to insert data into the target table\n",
    "with conn.cursor() as cursor:\n",
    "    query = \"INSERT INTO TablaDeSalarios (fecha, indice_de_salarios) SELECT Date, Value FROM temp_table;\"\n",
    "    cursor.execute(query)\n",
    "    conn.commit()"
   ]
  },
  {
   "cell_type": "code",
   "execution_count": 10,
   "id": "f7373a4a",
   "metadata": {},
   "outputs": [
    {
     "name": "stdout",
     "output_type": "stream",
     "text": [
      "(datetime.date(2023, 3, 1), 1202.1)\n",
      "(datetime.date(2023, 2, 1), 1114.3)\n",
      "(datetime.date(2023, 1, 1), 1042.4)\n",
      "(datetime.date(2022, 12, 1), 996.6)\n",
      "(datetime.date(2022, 11, 1), 953.34)\n",
      "(datetime.date(2022, 10, 1), 888.1)\n",
      "(datetime.date(2022, 9, 1), 843.4)\n",
      "(datetime.date(2022, 8, 1), 797.04)\n",
      "(datetime.date(2022, 7, 1), 737.01)\n",
      "(datetime.date(2022, 6, 1), 699.36)\n",
      "(datetime.date(2022, 5, 1), 665.7)\n",
      "(datetime.date(2022, 4, 1), 622.3)\n",
      "(datetime.date(2022, 3, 1), 589.2)\n",
      "(datetime.date(2022, 2, 1), 559.0)\n",
      "(datetime.date(2022, 1, 1), 538.2)\n",
      "(datetime.date(2021, 12, 1), 514.3)\n",
      "(datetime.date(2021, 11, 1), 507.0)\n",
      "(datetime.date(2021, 10, 1), 485.29)\n",
      "(datetime.date(2021, 9, 1), 467.91)\n",
      "(datetime.date(2021, 8, 1), 451.64)\n",
      "(datetime.date(2021, 7, 1), 437.0)\n",
      "(datetime.date(2021, 6, 1), 415.6)\n",
      "(datetime.date(2021, 5, 1), 408.4)\n",
      "(datetime.date(2021, 4, 1), 394.54)\n",
      "(datetime.date(2021, 3, 1), 376.68)\n",
      "(datetime.date(2021, 2, 1), 362.33)\n",
      "(datetime.date(2021, 1, 1), 344.61)\n",
      "(datetime.date(2020, 12, 1), 331.26)\n",
      "(datetime.date(2020, 11, 1), 326.04)\n",
      "(datetime.date(2020, 10, 1), 317.66)\n",
      "(datetime.date(2020, 9, 1), 301.54)\n",
      "(datetime.date(2020, 8, 1), 295.13)\n",
      "(datetime.date(2020, 7, 1), 289.19)\n",
      "(datetime.date(2020, 6, 1), 285.44)\n",
      "(datetime.date(2020, 5, 1), 285.06)\n",
      "(datetime.date(2020, 4, 1), 285.74)\n",
      "(datetime.date(2020, 3, 1), 286.4)\n",
      "(datetime.date(2020, 2, 1), 279.97)\n",
      "(datetime.date(2020, 1, 1), 267.6)\n",
      "(datetime.date(2019, 12, 1), 246.54)\n",
      "(datetime.date(2019, 11, 1), 242.85)\n",
      "(datetime.date(2019, 10, 1), 236.31)\n",
      "(datetime.date(2019, 9, 1), 227.72)\n",
      "(datetime.date(2019, 8, 1), 221.87)\n",
      "(datetime.date(2019, 7, 1), 215.86)\n",
      "(datetime.date(2019, 6, 1), 206.99)\n",
      "(datetime.date(2019, 5, 1), 201.66)\n",
      "(datetime.date(2019, 4, 1), 193.47)\n",
      "(datetime.date(2019, 3, 1), 188.26)\n",
      "(datetime.date(2019, 2, 1), 181.76)\n",
      "(datetime.date(2019, 1, 1), 176.91)\n",
      "(datetime.date(2018, 12, 1), 170.85)\n",
      "(datetime.date(2018, 11, 1), 168.06)\n",
      "(datetime.date(2018, 10, 1), 163.86)\n",
      "(datetime.date(2018, 9, 1), 157.82)\n",
      "(datetime.date(2018, 8, 1), 154.2)\n",
      "(datetime.date(2018, 7, 1), 149.94)\n",
      "(datetime.date(2018, 6, 1), 146.47)\n",
      "(datetime.date(2018, 5, 1), 144.47)\n",
      "(datetime.date(2018, 4, 1), 141.01)\n",
      "(datetime.date(2018, 3, 1), 136.23)\n",
      "(datetime.date(2018, 2, 1), 134.31)\n",
      "(datetime.date(2018, 1, 1), 133.25)\n",
      "(datetime.date(2017, 12, 1), 131.01)\n",
      "(datetime.date(2017, 11, 1), 130.04)\n",
      "(datetime.date(2017, 10, 1), 128.23)\n",
      "(datetime.date(2017, 9, 1), 126.0)\n",
      "(datetime.date(2017, 8, 1), 124.55)\n",
      "(datetime.date(2017, 7, 1), 122.8)\n",
      "(datetime.date(2017, 6, 1), 117.23)\n",
      "(datetime.date(2017, 5, 1), 115.18)\n",
      "(datetime.date(2017, 4, 1), 112.93)\n",
      "(datetime.date(2017, 3, 1), 109.26)\n",
      "(datetime.date(2017, 2, 1), 107.69)\n",
      "(datetime.date(2017, 1, 1), 106.34)\n",
      "(datetime.date(2016, 12, 1), 102.89)\n",
      "(datetime.date(2016, 11, 1), 101.8)\n",
      "(datetime.date(2016, 10, 1), 100.0)\n",
      "(datetime.date(2016, 9, 1), 96.63)\n",
      "(datetime.date(2016, 8, 1), 95.05)\n",
      "(datetime.date(2016, 7, 1), 93.35)\n",
      "(datetime.date(2016, 6, 1), 90.15)\n",
      "(datetime.date(2016, 5, 1), 88.74)\n",
      "(datetime.date(2016, 4, 1), 85.92)\n",
      "(datetime.date(2016, 3, 1), 80.8)\n",
      "(datetime.date(2016, 2, 1), 80.04)\n",
      "(datetime.date(2016, 1, 1), 78.93)\n",
      "(datetime.date(2015, 12, 1), 77.36)\n",
      "(datetime.date(2015, 11, 1), 75.95)\n",
      "(datetime.date(2015, 10, 1), 73.97)\n"
     ]
    }
   ],
   "source": [
    "# Execute the query to check results\n",
    "with conn.cursor() as cursor:\n",
    "    query = \"SELECT * FROM TablaDeSalarios ORDER BY fecha DESC;\"\n",
    "    cursor.execute(query)\n",
    "    result = cursor.fetchall()\n",
    "    # Process the query result as needed\n",
    "    for row in result:\n",
    "        print(row)"
   ]
  },
  {
   "cell_type": "code",
   "execution_count": null,
   "id": "034f987f",
   "metadata": {},
   "outputs": [],
   "source": [
    "# Close the connection\n",
    "conn.close()"
   ]
  }
 ],
 "metadata": {
  "kernelspec": {
   "display_name": "Python 3 (ipykernel)",
   "language": "python",
   "name": "python3"
  },
  "language_info": {
   "codemirror_mode": {
    "name": "ipython",
    "version": 3
   },
   "file_extension": ".py",
   "mimetype": "text/x-python",
   "name": "python",
   "nbconvert_exporter": "python",
   "pygments_lexer": "ipython3",
   "version": "3.9.12"
  }
 },
 "nbformat": 4,
 "nbformat_minor": 5
}
