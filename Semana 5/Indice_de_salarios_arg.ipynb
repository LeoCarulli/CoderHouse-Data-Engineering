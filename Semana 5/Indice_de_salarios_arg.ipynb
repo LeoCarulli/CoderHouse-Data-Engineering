{
 "cells": [
  {
   "cell_type": "code",
   "execution_count": 7,
   "id": "a55370eb",
   "metadata": {},
   "outputs": [],
   "source": [
    "import requests\n",
    "import pandas as pd"
   ]
  },
  {
   "cell_type": "code",
   "execution_count": 8,
   "id": "bb1f2dcc",
   "metadata": {},
   "outputs": [],
   "source": [
    "API_URL = 'https://apis.datos.gob.ar/series/api/series/?ids=149.1_SOR_PRIADO_OCTU_0_25'\n",
    "response = requests.get(API_URL)\n",
    "data = response.json()"
   ]
  },
  {
   "cell_type": "code",
   "execution_count": 9,
   "id": "a9220302",
   "metadata": {},
   "outputs": [],
   "source": [
    "df = pd.DataFrame(data[\"data\"], columns=[\"Date\", \"Value\"])"
   ]
  },
  {
   "cell_type": "code",
   "execution_count": 10,
   "id": "7384066a",
   "metadata": {},
   "outputs": [
    {
     "data": {
      "text/html": [
       "<div>\n",
       "<style scoped>\n",
       "    .dataframe tbody tr th:only-of-type {\n",
       "        vertical-align: middle;\n",
       "    }\n",
       "\n",
       "    .dataframe tbody tr th {\n",
       "        vertical-align: top;\n",
       "    }\n",
       "\n",
       "    .dataframe thead th {\n",
       "        text-align: right;\n",
       "    }\n",
       "</style>\n",
       "<table border=\"1\" class=\"dataframe\">\n",
       "  <thead>\n",
       "    <tr style=\"text-align: right;\">\n",
       "      <th></th>\n",
       "      <th>Date</th>\n",
       "      <th>Value</th>\n",
       "    </tr>\n",
       "  </thead>\n",
       "  <tbody>\n",
       "    <tr>\n",
       "      <th>0</th>\n",
       "      <td>2015-10-01</td>\n",
       "      <td>73.97</td>\n",
       "    </tr>\n",
       "    <tr>\n",
       "      <th>1</th>\n",
       "      <td>2015-11-01</td>\n",
       "      <td>75.95</td>\n",
       "    </tr>\n",
       "    <tr>\n",
       "      <th>2</th>\n",
       "      <td>2015-12-01</td>\n",
       "      <td>77.36</td>\n",
       "    </tr>\n",
       "    <tr>\n",
       "      <th>3</th>\n",
       "      <td>2016-01-01</td>\n",
       "      <td>78.93</td>\n",
       "    </tr>\n",
       "    <tr>\n",
       "      <th>4</th>\n",
       "      <td>2016-02-01</td>\n",
       "      <td>80.04</td>\n",
       "    </tr>\n",
       "    <tr>\n",
       "      <th>...</th>\n",
       "      <td>...</td>\n",
       "      <td>...</td>\n",
       "    </tr>\n",
       "    <tr>\n",
       "      <th>85</th>\n",
       "      <td>2022-11-01</td>\n",
       "      <td>953.34</td>\n",
       "    </tr>\n",
       "    <tr>\n",
       "      <th>86</th>\n",
       "      <td>2022-12-01</td>\n",
       "      <td>996.60</td>\n",
       "    </tr>\n",
       "    <tr>\n",
       "      <th>87</th>\n",
       "      <td>2023-01-01</td>\n",
       "      <td>1042.40</td>\n",
       "    </tr>\n",
       "    <tr>\n",
       "      <th>88</th>\n",
       "      <td>2023-02-01</td>\n",
       "      <td>1114.30</td>\n",
       "    </tr>\n",
       "    <tr>\n",
       "      <th>89</th>\n",
       "      <td>2023-03-01</td>\n",
       "      <td>1202.10</td>\n",
       "    </tr>\n",
       "  </tbody>\n",
       "</table>\n",
       "<p>90 rows × 2 columns</p>\n",
       "</div>"
      ],
      "text/plain": [
       "          Date    Value\n",
       "0   2015-10-01    73.97\n",
       "1   2015-11-01    75.95\n",
       "2   2015-12-01    77.36\n",
       "3   2016-01-01    78.93\n",
       "4   2016-02-01    80.04\n",
       "..         ...      ...\n",
       "85  2022-11-01   953.34\n",
       "86  2022-12-01   996.60\n",
       "87  2023-01-01  1042.40\n",
       "88  2023-02-01  1114.30\n",
       "89  2023-03-01  1202.10\n",
       "\n",
       "[90 rows x 2 columns]"
      ]
     },
     "execution_count": 10,
     "metadata": {},
     "output_type": "execute_result"
    }
   ],
   "source": [
    "df"
   ]
  }
 ],
 "metadata": {
  "kernelspec": {
   "display_name": "Python 3 (ipykernel)",
   "language": "python",
   "name": "python3"
  },
  "language_info": {
   "codemirror_mode": {
    "name": "ipython",
    "version": 3
   },
   "file_extension": ".py",
   "mimetype": "text/x-python",
   "name": "python",
   "nbconvert_exporter": "python",
   "pygments_lexer": "ipython3",
   "version": "3.9.12"
  }
 },
 "nbformat": 4,
 "nbformat_minor": 5
}
